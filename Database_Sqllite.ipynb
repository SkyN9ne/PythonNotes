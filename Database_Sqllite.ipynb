{
 "cells": [
  {
   "cell_type": "markdown",
   "metadata": {},
   "source": [
    "# SQLite"
   ]
  },
  {
   "cell_type": "markdown",
   "metadata": {},
   "source": [
    "SQLite is a C-language library that implements a SQL <u>(Structured Query Language)</u>\n",
    " database engine that is relatively quick, serverless and self-contained, high-reliable. SQLite is the most commonly used database engine in the test environment.\n",
    " \n",
    " https://www.sqlite.org  |   https://sqlitebrowser.org/   |   https://www.sqliteviewer.org/database/   |   https://sqliteonline.com/   |   https://www.w3schools.com/sql/default.asp"
   ]
  },
  {
   "cell_type": "code",
   "execution_count": 16,
   "metadata": {},
   "outputs": [],
   "source": [
    "import sqlite3 as s3"
   ]
  },
  {
   "cell_type": "code",
   "execution_count": 6,
   "metadata": {},
   "outputs": [
    {
     "data": {
      "text/plain": [
       "'2.6.0'"
      ]
     },
     "execution_count": 6,
     "metadata": {},
     "output_type": "execute_result"
    }
   ],
   "source": [
    "s3.version#dir(s3)"
   ]
  },
  {
   "cell_type": "markdown",
   "metadata": {},
   "source": [
    "<b>Basic Database related Actions:</b> \n",
    "\n",
    "<ul>\n",
    "    <li>Create/Connect <u>Databases</u> (.db type) -- A Database can contain multiple Tables.</li>\n",
    "    <li>Deploy CRUD (Create, Retrieve, Update, Delete) operations with <u>Tables (Structured Data in Row and Column format)</u> from Database</li>\n",
    "    <li>Share information etc with <u>Python</u> Application</li>\n",
    "</ul>   \n"
   ]
  },
  {
   "cell_type": "markdown",
   "metadata": {},
   "source": [
    "<img src=\"table_str.png\" /> "
   ]
  },
  {
   "cell_type": "code",
   "execution_count": 14,
   "metadata": {},
   "outputs": [],
   "source": [
    "# Creating a SQLite Database! Connection object ==> (:memory:) in memory object can also be created\n",
    "\n",
    "conn = s3.connect('userOrders.db')  #conn is Connection object required for other activity!"
   ]
  },
  {
   "cell_type": "code",
   "execution_count": 15,
   "metadata": {},
   "outputs": [],
   "source": [
    "# Creating Cursor: cursor object is required to execute SQL\n",
    "\n",
    "cur = conn.cursor()"
   ]
  },
  {
   "cell_type": "markdown",
   "metadata": {},
   "source": [
    "### Create Tables using Connection established"
   ]
  },
  {
   "cell_type": "code",
   "execution_count": 18,
   "metadata": {},
   "outputs": [],
   "source": [
    "#Defining SQL to create Tables! Data Types for Column https://www.sqlite.org/datatype3.html\n",
    "\n",
    "userTable=\"\"\"CREATE TABLE IF NOT EXISTS users(\n",
    "   userid INT PRIMARY KEY,\n",
    "   fname TEXT,\n",
    "   lname TEXT,\n",
    "   gender TEXT);\n",
    "\"\"\"\n",
    "\n",
    "orderTable=\"\"\"CREATE TABLE IF NOT EXISTS orders(\n",
    "   orderid INT PRIMARY KEY,\n",
    "   date TEXT,\n",
    "   userid TEXT,\n",
    "   total TEXT);\n",
    "\"\"\""
   ]
  },
  {
   "cell_type": "code",
   "execution_count": 23,
   "metadata": {},
   "outputs": [],
   "source": [
    "#execute(SQL QUERY): executes SQL query! \n",
    "\n",
    "cur.execute(userTable) #execute SQL\n",
    "conn.commit() #commit executed SQL to the database\n",
    "\n",
    "cur.execute(orderTable)\n",
    "conn.commit()"
   ]
  },
  {
   "cell_type": "markdown",
   "metadata": {},
   "source": [
    "#### Try loading records from Tables created"
   ]
  },
  {
   "cell_type": "code",
   "execution_count": 24,
   "metadata": {},
   "outputs": [
    {
     "data": {
      "text/plain": [
       "'\\ncur.execute(\"SELECT * FROM users\")\\nrecord = cur.fetchone() #fetch 1 Row!\\nprint(record)\\n'"
      ]
     },
     "execution_count": 24,
     "metadata": {},
     "output_type": "execute_result"
    }
   ],
   "source": [
    "cur.execute(\"SELECT * FROM users\").fetchone() \n",
    "cur.execute(\"SELECT * FROM orders\").fetchone()\n",
    "\n",
    "#OR\n",
    "'''\n",
    "cur.execute(\"SELECT * FROM users\")\n",
    "record = cur.fetchone() #fetch 1 Row!\n",
    "print(record)\n",
    "'''"
   ]
  },
  {
   "cell_type": "markdown",
   "metadata": {},
   "source": [
    "### Insert/Load data into/from Table: \n",
    "execute(), executemany(), ----------, \n",
    "fetchone(), fetchmany(), fetchmany(5), fetchall()"
   ]
  },
  {
   "cell_type": "code",
   "execution_count": 28,
   "metadata": {},
   "outputs": [
    {
     "data": {
      "text/plain": [
       "'\\nrow1=\"\"\"INSERT INTO users(userid, fname, lname, gender) \\n        VALUES (\\'00001\\', \\'Nik\\', \\'Piepenbreier\\', \\'male\\')\\n   \"\"\"\\n\\ncur.execute(row1)\\nconn.commit()'"
      ]
     },
     "execution_count": 28,
     "metadata": {},
     "output_type": "execute_result"
    }
   ],
   "source": [
    "row1=\"\"\"INSERT INTO users(userid, fname, lname, gender) \n",
    "        VALUES ('00001', 'Nik', 'Piepenbreier', 'male')\n",
    "   \"\"\"\n",
    "\n",
    "cur.execute(row1)\n",
    "conn.commit()"
   ]
  },
  {
   "cell_type": "code",
   "execution_count": 30,
   "metadata": {},
   "outputs": [
    {
     "data": {
      "text/plain": [
       "(1, 'Nik', 'Piepenbreier', 'male')"
      ]
     },
     "execution_count": 30,
     "metadata": {},
     "output_type": "execute_result"
    }
   ],
   "source": [
    "cur.execute(\"SELECT * FROM users\").fetchone() "
   ]
  },
  {
   "cell_type": "code",
   "execution_count": 31,
   "metadata": {},
   "outputs": [
    {
     "data": {
      "text/plain": [
       "[(1, 'Nik', 'Piepenbreier', 'male')]"
      ]
     },
     "execution_count": 31,
     "metadata": {},
     "output_type": "execute_result"
    }
   ],
   "source": [
    "row2 = ('00002', 'Lois', 'Lane', 'Female')\n",
    "#insert\n",
    "cur.execute(\"INSERT INTO users VALUES(?, ?, ?, ?);\", row2)\n",
    "conn.commit()\n",
    "#load rows\n",
    "cur.execute(\"SELECT * FROM users\").fetchmany() "
   ]
  },
  {
   "cell_type": "code",
   "execution_count": 33,
   "metadata": {},
   "outputs": [
    {
     "data": {
      "text/plain": [
       "[(1, 'Nik', 'Piepenbreier', 'male'), (2, 'Lois', 'Lane', 'Female')]"
      ]
     },
     "execution_count": 33,
     "metadata": {},
     "output_type": "execute_result"
    }
   ],
   "source": [
    "cur.execute(\"SELECT * FROM users\").fetchmany(2) "
   ]
  },
  {
   "cell_type": "code",
   "execution_count": 35,
   "metadata": {},
   "outputs": [
    {
     "data": {
      "text/plain": [
       "[(1, 'Nik', 'Piepenbreier', 'male'), (2, 'Lois', 'Lane', 'Female')]"
      ]
     },
     "execution_count": 35,
     "metadata": {},
     "output_type": "execute_result"
    }
   ],
   "source": [
    "cur.execute(\"SELECT * FROM users\").fetchall()"
   ]
  },
  {
   "cell_type": "code",
   "execution_count": 36,
   "metadata": {},
   "outputs": [
    {
     "data": {
      "text/plain": [
       "[]"
      ]
     },
     "execution_count": 36,
     "metadata": {},
     "output_type": "execute_result"
    }
   ],
   "source": [
    "cur.execute(\"SELECT * FROM orders\").fetchall()"
   ]
  },
  {
   "cell_type": "code",
   "execution_count": 38,
   "metadata": {},
   "outputs": [],
   "source": [
    "#Insert multiple rows using executemany()\n",
    "\n",
    "userData = [('00005', 'Stephanie', 'Stewart', 'female'), ('00006', 'Sincere', 'Sherman', 'female'),\n",
    "            ('00007', 'Sidney', 'Horn', 'male'), ('00008', 'Litzy', 'Yates', 'female'), ('00009', 'Jaxon', 'Mills', 'male'),\n",
    "            ('00010', 'Paul', 'Richard', 'male'), ('00011', 'Kamari', 'Holden', 'female'), \n",
    "            ('00012', 'Gaige', 'Summers', 'female'), ('00013', 'Andrea', 'Snow', 'female'), \n",
    "            ('00014', 'Angelica', 'Barnes', 'female'), ('00015', 'Leah', 'Pitts', 'female'), \n",
    "            ('00016', 'Dillan', 'Olsen', 'male'), ('00017', 'Joe', 'Walsh', 'male'), ('00018', 'Reagan', 'Cooper', 'male'),\n",
    "            ('00019', 'Aubree', 'Hogan', 'female'), ('00020', 'Avery', 'Floyd', 'male'), \n",
    "            ('00021', 'Elianna', 'Simmons', 'female'), ('00022', 'Rodney', 'Stout', 'male'), \n",
    "            ('00023', 'Elaine', 'Mcintosh', 'female'), ('00024', 'Myla', 'Mckenzie', 'female'), \n",
    "            ('00025', 'Alijah', 'Horn', 'female'), ('00026', 'Rohan', 'Peterson', 'male'), \n",
    "            ('00027', 'Irene', 'Walters', 'female'), ('00028', 'Lilia', 'Sellers', 'female'), \n",
    "            ('00029', 'Perla', 'Jefferson', 'female'), ('00030', 'Ashley', 'Klein', 'female')]\n",
    "orderData = [('00001', '2020-01-01', '00025', '178'), ('00002', '2020-01-03', '00025', '39'), \n",
    "             ('00003', '2020-01-07', '00016', '153'), ('00004', '2020-01-10', '00015', '110'),\n",
    "             ('00005', '2020-01-11', '00024', '219'), ('00006', '2020-01-12', '00029', '37'),\n",
    "             ('00007', '2020-01-14', '00028', '227'), ('00008', '2020-01-18', '00010', '232'), \n",
    "             ('00009', '2020-01-22', '00016', '236'), ('00010', '2020-01-26', '00017', '116'), \n",
    "             ('00011', '2020-01-28', '00028', '221'), ('00012', '2020-01-31', '00021', '238'), \n",
    "             ('00013', '2020-02-02', '00015', '177'), ('00014', '2020-02-05', '00025', '76'),('00015', '2020-02-08', '00022', '245'), ('00016', '2020-02-12', '00008', '180'), \n",
    "             ('00017', '2020-02-14', '00020', '190'), ('00018', '2020-02-18', '00030', '166'),('00019', '2020-02-22', '00002', '168'), ('00020', '2020-02-26', '00021', '174'), \n",
    "             ('00021', '2020-02-29', '00017', '126'), ('00022', '2020-03-02', '00019', '211'),('00023', '2020-03-05', '00030', '144'), ('00024', '2020-03-09', '00012', '112'), \n",
    "             ('00025', '2020-03-10', '00006', '45'), ('00026', '2020-03-11', '00004', '200'), \n",
    "             ('00027', '2020-03-14', '00015', '226'), ('00028', '2020-03-17', '00030', '189'), \n",
    "             ('00029', '2020-03-20', '00004', '152'), ('00030', '2020-03-22', '00026', '239'), \n",
    "             ('00031', '2020-03-23', '00012', '135'), ('00032', '2020-03-24', '00013', '211'),\n",
    "             ('00033', '2020-03-27', '00030', '226'), ('00034', '2020-03-28', '00007', '173'), \n",
    "             ('00035', '2020-03-30', '00010', '144'), ('00036', '2020-04-01', '00017', '185'), \n",
    "             ('00037', '2020-04-03', '00009', '95'), ('00038', '2020-04-06', '00009', '138'), \n",
    "             ('00039', '2020-04-10', '00025', '223'), ('00040', '2020-04-12', '00019', '118'), ('00041', '2020-04-15', '00024', '132'), ('00042', '2020-04-18', '00008', '238'), ('00043', '2020-04-21', '00003', '50'), ('00044', '2020-04-25', '00019', '98'), ('00045', '2020-04-26', '00017', '167'), ('00046', '2020-04-28', '00009', '215'), ('00047', '2020-05-01', '00014', '142'), ('00048', '2020-05-05', '00022', '173'), ('00049', '2020-05-06', '00015', '80'), ('00050', '2020-05-07', '00017', '37'), ('00051', '2020-05-08', '00002', '36'), ('00052', '2020-05-10', '00022', '65'), ('00053', '2020-05-14', '00019', '110'), ('00054', '2020-05-18', '00017', '36'), ('00055', '2020-05-21', '00008', '163'), ('00056', '2020-05-24', '00024', '91'), ('00057', '2020-05-26', '00028', '154'), ('00058', '2020-05-30', '00022', '130'), ('00059', '2020-05-31', '00017', '119'), ('00060', '2020-06-01', '00024', '137'), ('00061', '2020-06-03', '00017', '206'), ('00062', '2020-06-04', '00013', '100'), ('00063', '2020-06-05', '00021', '187'), ('00064', '2020-06-09', '00025', '170'), ('00065', '2020-06-11', '00011', '149'), ('00066', '2020-06-12', '00007', '195'), ('00067', '2020-06-14', '00015', '30'), ('00068', '2020-06-16', '00002', '246'), ('00069', '2020-06-20', '00028', '163'), ('00070', '2020-06-22', '00005', '184'), ('00071', '2020-06-23', '00022', '68'), ('00072', '2020-06-27', '00013', '92'), ('00073', '2020-06-30', '00022', '149'), ('00074', '2020-07-04', '00002', '65'), ('00075', '2020-07-05', '00017', '88'), ('00076', '2020-07-09', '00007', '156'), ('00077', '2020-07-13', '00010', '26'), ('00078', '2020-07-16', '00008', '55'), ('00079', '2020-07-20', '00019', '81'), ('00080', '2020-07-22', '00011', '78'), ('00081', '2020-07-23', '00026', '166'), ('00082', '2020-07-27', '00014', '65'), ('00083', '2020-07-30', '00021', '205'), ('00084', '2020-08-01', '00026', '140'), ('00085', '2020-08-05', '00006', '236'), ('00086', '2020-08-06', '00021', '208'), ('00087', '2020-08-07', '00021', '169'), ('00088', '2020-08-08', '00004', '157'), ('00089', '2020-08-11', '00017', '71'), ('00090', '2020-08-13', '00025', '89'), ('00091', '2020-08-16', '00014', '249'), ('00092', '2020-08-18', '00012', '59'), ('00093', '2020-08-19', '00013', '121'), ('00094', '2020-08-20', '00025', '179'), ('00095', '2020-08-22', '00017', '208'), ('00096', '2020-08-26', '00024', '217'), ('00097', '2020-08-28', '00004', '206'), ('00098', '2020-08-30', '00017', '114'), ('00099', '2020-08-31', '00017', '169'), \n",
    "             ('00100', '2020-09-02', '00022', '226')]\n",
    "\n",
    "cur.executemany(\"INSERT INTO users VALUES(?, ?, ?, ?)\", userData)\n",
    "cur.executemany(\"INSERT INTO orders VALUES(?, ?, ?, ?)\", orderData)\n",
    "conn.commit()"
   ]
  },
  {
   "cell_type": "code",
   "execution_count": 41,
   "metadata": {},
   "outputs": [
    {
     "name": "stdout",
     "output_type": "stream",
     "text": [
      "[(1, 'Nik', 'Piepenbreier', 'male'), (2, 'Lois', 'Lane', 'Female'), (5, 'Stephanie', 'Stewart', 'female'), (6, 'Sincere', 'Sherman', 'female'), (7, 'Sidney', 'Horn', 'male')]\n"
     ]
    },
    {
     "data": {
      "text/plain": [
       "[(1, '2020-01-01', '00025', '178'),\n",
       " (2, '2020-01-03', '00025', '39'),\n",
       " (3, '2020-01-07', '00016', '153'),\n",
       " (4, '2020-01-10', '00015', '110'),\n",
       " (5, '2020-01-11', '00024', '219'),\n",
       " (6, '2020-01-12', '00029', '37'),\n",
       " (7, '2020-01-14', '00028', '227'),\n",
       " (8, '2020-01-18', '00010', '232'),\n",
       " (9, '2020-01-22', '00016', '236'),\n",
       " (10, '2020-01-26', '00017', '116')]"
      ]
     },
     "execution_count": 41,
     "metadata": {},
     "output_type": "execute_result"
    }
   ],
   "source": [
    "#load/Retrieve multiple rows from Table\n",
    "userrecords = cur.execute(\"SELECT * FROM users\").fetchmany(5) \n",
    "print(userrecords)\n",
    "\n",
    "cur.execute(\"SELECT * FROM orders\").fetchmany(10) "
   ]
  },
  {
   "cell_type": "code",
   "execution_count": 43,
   "metadata": {},
   "outputs": [
    {
     "name": "stdout",
     "output_type": "stream",
     "text": [
      "[(1, 'Nik', 'Piepenbreier', 'male'), (7, 'Sidney', 'Horn', 'male'), (9, 'Jaxon', 'Mills', 'male'), (10, 'Paul', 'Richard', 'male'), (16, 'Dillan', 'Olsen', 'male'), (17, 'Joe', 'Walsh', 'male'), (18, 'Reagan', 'Cooper', 'male'), (20, 'Avery', 'Floyd', 'male'), (22, 'Rodney', 'Stout', 'male'), (26, 'Rohan', 'Peterson', 'male')]\n"
     ]
    },
    {
     "data": {
      "text/plain": [
       "[(9, '2020-01-22', '00016', '236'),\n",
       " (10, '2020-01-26', '00017', '116'),\n",
       " (11, '2020-01-28', '00028', '221')]"
      ]
     },
     "execution_count": 43,
     "metadata": {},
     "output_type": "execute_result"
    }
   ],
   "source": [
    "#Retrieve with condition!\n",
    "\n",
    "userrecords = cur.execute(\"SELECT * FROM users WHERE gender='male'\").fetchmany(10) \n",
    "print(userrecords)"
   ]
  },
  {
   "cell_type": "code",
   "execution_count": 44,
   "metadata": {},
   "outputs": [
    {
     "data": {
      "text/plain": [
       "[(9, '2020-01-22', '00016', '236'),\n",
       " (10, '2020-01-26', '00017', '116'),\n",
       " (11, '2020-01-28', '00028', '221')]"
      ]
     },
     "execution_count": 44,
     "metadata": {},
     "output_type": "execute_result"
    }
   ],
   "source": [
    "cur.execute(\"SELECT * FROM orders WHERE date LIKE '2020-01-2%'\").fetchmany(5) # LIKE"
   ]
  },
  {
   "cell_type": "code",
   "execution_count": 54,
   "metadata": {},
   "outputs": [
    {
     "data": {
      "text/plain": [
       "[('178', '2020-01-01'),\n",
       " ('39', '2020-01-03'),\n",
       " ('153', '2020-01-07'),\n",
       " ('110', '2020-01-10'),\n",
       " ('219', '2020-01-11')]"
      ]
     },
     "execution_count": 54,
     "metadata": {},
     "output_type": "execute_result"
    }
   ],
   "source": [
    "cur.execute(\"SELECT total,date FROM orders\").fetchmany(5) # selected columns"
   ]
  },
  {
   "cell_type": "code",
   "execution_count": 139,
   "metadata": {},
   "outputs": [
    {
     "name": "stdout",
     "output_type": "stream",
     "text": [
      "[('Piepenbreier',), ('Lane',), ('Stewart',), ('Sherman',), ('Horn',), ('Yates',), ('Mills',), ('Richard',), ('Holden',), ('Summers',)]\n",
      "[('Sidney',), ('Alijah',)]\n"
     ]
    }
   ],
   "source": [
    "#unique: distinct()\n",
    "\n",
    "print(cur.execute(\"SELECT distinct(lname) FROM users\").fetchmany(10))\n",
    "\n",
    "print(cur.execute(\"SELECT distinct(fname) FROM users WHERE lname='Horn'\").fetchall())\n"
   ]
  },
  {
   "cell_type": "code",
   "execution_count": 145,
   "metadata": {},
   "outputs": [
    {
     "name": "stdout",
     "output_type": "stream",
     "text": [
      "[(27,)]\n",
      "[(82,)]\n"
     ]
    }
   ],
   "source": [
    "#count(), distinct()\n",
    "\n",
    "print(cur.execute(\"SELECT count(distinct(lname)) FROM users\").fetchall())\n",
    "\n",
    "print(cur.execute(\"SELECT count(distinct(total)) FROM orders\").fetchall())"
   ]
  },
  {
   "cell_type": "markdown",
   "metadata": {},
   "source": [
    "### UPDATE"
   ]
  },
  {
   "cell_type": "code",
   "execution_count": 55,
   "metadata": {},
   "outputs": [
    {
     "name": "stdout",
     "output_type": "stream",
     "text": [
      "[(1, 'Nik', 'Piepenbreier', 'male')]\n"
     ]
    }
   ],
   "source": [
    "result = cur.execute(\"SELECT * from users WHERE fname='Nik' AND gender='male'\").fetchall()\n",
    "print(result)"
   ]
  },
  {
   "cell_type": "code",
   "execution_count": 56,
   "metadata": {},
   "outputs": [],
   "source": [
    "updateQuery=\"\"\"UPDATE users SET fname='Nick' WHERE fname='Nik' AND gender='male'\"\"\"\n",
    "cur.execute(updateQuery) #Update\n",
    "conn.commit()"
   ]
  },
  {
   "cell_type": "code",
   "execution_count": 59,
   "metadata": {},
   "outputs": [
    {
     "name": "stdout",
     "output_type": "stream",
     "text": [
      "[(1, 'Nick', 'Piepenbreier', 'male')]\n",
      "[(1, 'Nick', 'Piepenbreier', 'male')]\n"
     ]
    }
   ],
   "source": [
    "result = cur.execute(\"SELECT * from users WHERE fname='Nick' AND gender='male'\").fetchall() #check for Update Happen!\n",
    "print(result)\n",
    "\n",
    "result = cur.execute(\"SELECT * from users WHERE userid=1\").fetchall() #check for Update Happen!\n",
    "print(result)"
   ]
  },
  {
   "cell_type": "markdown",
   "metadata": {},
   "source": [
    "## DELETE"
   ]
  },
  {
   "cell_type": "code",
   "execution_count": 77,
   "metadata": {},
   "outputs": [],
   "source": [
    "#Insert Temporary Row \n",
    "\n",
    "rowData = ('10002', 'TEST', 'Record', 'NULL')\n",
    "#insert\n",
    "cur.execute(\"INSERT INTO users VALUES(?, ?, ?, ?);\", rowData)\n",
    "conn.commit()"
   ]
  },
  {
   "cell_type": "code",
   "execution_count": 78,
   "metadata": {},
   "outputs": [
    {
     "name": "stdout",
     "output_type": "stream",
     "text": [
      "[(10002, 'TEST', 'Record', 'NULL')]\n"
     ]
    }
   ],
   "source": [
    "rowData = cur.execute(\"SELECT * from users WHERE gender='NULL'\").fetchall() #check for Update Happen!\n",
    "print(rowData)"
   ]
  },
  {
   "cell_type": "code",
   "execution_count": 79,
   "metadata": {},
   "outputs": [],
   "source": [
    "#Deleting Temporary Row\n",
    "cur.execute(\"DELETE FROM users WHERE userid='10002'\")\n",
    "\n",
    "conn.commit()"
   ]
  },
  {
   "cell_type": "code",
   "execution_count": 80,
   "metadata": {},
   "outputs": [
    {
     "name": "stdout",
     "output_type": "stream",
     "text": [
      "[]\n"
     ]
    }
   ],
   "source": [
    "rowData1 = cur.execute(\"SELECT * from users WHERE gender='NULL'\").fetchall() #check for Update Happen!\n",
    "print(rowData1)"
   ]
  },
  {
   "cell_type": "markdown",
   "metadata": {},
   "source": [
    "### JOIN - mutiple Table!"
   ]
  },
  {
   "cell_type": "code",
   "execution_count": 115,
   "metadata": {},
   "outputs": [
    {
     "data": {
      "text/plain": [
       "[('2020-01-01', '178', 'Alijah', 'Horn'),\n",
       " ('2020-01-03', '39', 'Alijah', 'Horn'),\n",
       " ('2020-01-07', '153', 'Dillan', 'Olsen'),\n",
       " ('2020-01-10', '110', 'Leah', 'Pitts'),\n",
       " ('2020-01-11', '219', 'Myla', 'Mckenzie'),\n",
       " ('2020-01-12', '37', 'Perla', 'Jefferson'),\n",
       " ('2020-01-14', '227', 'Lilia', 'Sellers'),\n",
       " ('2020-01-18', '232', 'Paul', 'Richard'),\n",
       " ('2020-01-22', '236', 'Dillan', 'Olsen'),\n",
       " ('2020-01-26', '116', 'Joe', 'Walsh'),\n",
       " ('2020-01-28', '221', 'Lilia', 'Sellers')]"
      ]
     },
     "execution_count": 115,
     "metadata": {},
     "output_type": "execute_result"
    }
   ],
   "source": [
    "cur.execute(\"\"\"SELECT orders.date,orders.total, users.fname, users.lname \n",
    "    FROM orders\n",
    "    INNER JOIN users \n",
    "    ON users.userid=orders.userid\"\"\")\n",
    "\n",
    "cur.fetchmany(11)"
   ]
  },
  {
   "cell_type": "code",
   "execution_count": 109,
   "metadata": {},
   "outputs": [
    {
     "data": {
      "text/plain": [
       "[('2020-01-01', '178', 'Alijah', 'Horn'),\n",
       " ('2020-01-03', '39', 'Alijah', 'Horn'),\n",
       " ('2020-02-05', '76', 'Alijah', 'Horn'),\n",
       " ('2020-04-10', '223', 'Alijah', 'Horn'),\n",
       " ('2020-06-09', '170', 'Alijah', 'Horn'),\n",
       " ('2020-08-13', '89', 'Alijah', 'Horn'),\n",
       " ('2020-08-20', '179', 'Alijah', 'Horn')]"
      ]
     },
     "execution_count": 109,
     "metadata": {},
     "output_type": "execute_result"
    }
   ],
   "source": [
    "#Particular Person\n",
    "\n",
    "cur.execute(\"\"\"SELECT orders.date,orders.total, users.fname, users.lname \n",
    "    FROM orders\n",
    "    INNER JOIN users \n",
    "    ON users.userid=orders.userid AND users.fname='Alijah'\"\"\")\n",
    "\n",
    "cur.fetchmany(10) #count(orders.total)"
   ]
  },
  {
   "cell_type": "code",
   "execution_count": 126,
   "metadata": {},
   "outputs": [
    {
     "name": "stdout",
     "output_type": "stream",
     "text": [
      "[(7, 954, 136.28571428571428)]\n"
     ]
    }
   ],
   "source": [
    "#Particular Person Order details: count(), sum(), avg()\n",
    "\n",
    "output=cur.execute(\"\"\"SELECT count(orders.total),sum(orders.total),avg(orders.total)\n",
    "    FROM orders\n",
    "    INNER JOIN users \n",
    "    ON users.userid=orders.userid AND users.fname='Alijah' AND users.lname='Horn'\n",
    "    \"\"\").fetchall()\n",
    "\n",
    "print(output)"
   ]
  },
  {
   "cell_type": "markdown",
   "metadata": {},
   "source": [
    "### Export!"
   ]
  },
  {
   "cell_type": "code",
   "execution_count": 172,
   "metadata": {},
   "outputs": [],
   "source": [
    "import csv\n",
    "import json\n",
    "\n",
    "data = cur.execute(\"SELECT * FROM users\")\n",
    "#order = cur.execute(\"SELECT * FROM orders\")"
   ]
  },
  {
   "cell_type": "code",
   "execution_count": 164,
   "metadata": {},
   "outputs": [
    {
     "data": {
      "text/plain": [
       "\"    \\nwith open('csvorder.csv','w',newline='') as fo:\\n    writer = csv.writer(fo)\\n    writer.writerow(['orderid','date','userid','total'])\\n    writer.writerows(order)\\n\""
      ]
     },
     "execution_count": 164,
     "metadata": {},
     "output_type": "execute_result"
    }
   ],
   "source": [
    "with open('csvUser.csv','w',newline='') as fp:\n",
    "    writer = csv.writer(fp)\n",
    "    writer.writerow(['userid','fname','lname','gender'])\n",
    "    writer.writerows(data)\n",
    "\n",
    "'''    \n",
    "with open('csvorder.csv','w',newline='') as fo:\n",
    "    writer = csv.writer(fo)\n",
    "    writer.writerow(['orderid','date','userid','total'])\n",
    "    writer.writerows(order)\n",
    "'''"
   ]
  },
  {
   "cell_type": "code",
   "execution_count": 165,
   "metadata": {},
   "outputs": [
    {
     "name": "stdout",
     "output_type": "stream",
     "text": [
      "{'1': OrderedDict([('userid', '1'), ('fname', 'Nick'), ('lname', 'Piepenbreier'), ('gender', 'male')]), '2': OrderedDict([('userid', '2'), ('fname', 'Lois'), ('lname', 'Lane'), ('gender', 'Female')]), '5': OrderedDict([('userid', '5'), ('fname', 'Stephanie'), ('lname', 'Stewart'), ('gender', 'female')]), '6': OrderedDict([('userid', '6'), ('fname', 'Sincere'), ('lname', 'Sherman'), ('gender', 'female')]), '7': OrderedDict([('userid', '7'), ('fname', 'Sidney'), ('lname', 'Horn'), ('gender', 'male')]), '8': OrderedDict([('userid', '8'), ('fname', 'Litzy'), ('lname', 'Yates'), ('gender', 'female')]), '9': OrderedDict([('userid', '9'), ('fname', 'Jaxon'), ('lname', 'Mills'), ('gender', 'male')]), '10': OrderedDict([('userid', '10'), ('fname', 'Paul'), ('lname', 'Richard'), ('gender', 'male')]), '11': OrderedDict([('userid', '11'), ('fname', 'Kamari'), ('lname', 'Holden'), ('gender', 'female')]), '12': OrderedDict([('userid', '12'), ('fname', 'Gaige'), ('lname', 'Summers'), ('gender', 'female')]), '13': OrderedDict([('userid', '13'), ('fname', 'Andrea'), ('lname', 'Snow'), ('gender', 'female')]), '14': OrderedDict([('userid', '14'), ('fname', 'Angelica'), ('lname', 'Barnes'), ('gender', 'female')]), '15': OrderedDict([('userid', '15'), ('fname', 'Leah'), ('lname', 'Pitts'), ('gender', 'female')]), '16': OrderedDict([('userid', '16'), ('fname', 'Dillan'), ('lname', 'Olsen'), ('gender', 'male')]), '17': OrderedDict([('userid', '17'), ('fname', 'Joe'), ('lname', 'Walsh'), ('gender', 'male')]), '18': OrderedDict([('userid', '18'), ('fname', 'Reagan'), ('lname', 'Cooper'), ('gender', 'male')]), '19': OrderedDict([('userid', '19'), ('fname', 'Aubree'), ('lname', 'Hogan'), ('gender', 'female')]), '20': OrderedDict([('userid', '20'), ('fname', 'Avery'), ('lname', 'Floyd'), ('gender', 'male')]), '21': OrderedDict([('userid', '21'), ('fname', 'Elianna'), ('lname', 'Simmons'), ('gender', 'female')]), '22': OrderedDict([('userid', '22'), ('fname', 'Rodney'), ('lname', 'Stout'), ('gender', 'male')]), '23': OrderedDict([('userid', '23'), ('fname', 'Elaine'), ('lname', 'Mcintosh'), ('gender', 'female')]), '24': OrderedDict([('userid', '24'), ('fname', 'Myla'), ('lname', 'Mckenzie'), ('gender', 'female')]), '25': OrderedDict([('userid', '25'), ('fname', 'Alijah'), ('lname', 'Horn'), ('gender', 'female')]), '26': OrderedDict([('userid', '26'), ('fname', 'Rohan'), ('lname', 'Peterson'), ('gender', 'male')]), '27': OrderedDict([('userid', '27'), ('fname', 'Irene'), ('lname', 'Walters'), ('gender', 'female')]), '28': OrderedDict([('userid', '28'), ('fname', 'Lilia'), ('lname', 'Sellers'), ('gender', 'female')]), '29': OrderedDict([('userid', '29'), ('fname', 'Perla'), ('lname', 'Jefferson'), ('gender', 'female')]), '30': OrderedDict([('userid', '30'), ('fname', 'Ashley'), ('lname', 'Klein'), ('gender', 'female')])}\n"
     ]
    }
   ],
   "source": [
    "final={}\n",
    "with open('csvUser.csv') as cu:\n",
    "    readCSV = csv.DictReader(cu)\n",
    "    for row in readCSV:\n",
    "        id=row['userid']\n",
    "        final[id]=row\n",
    "#print(final)\n",
    "with open('jsonUser.json','w') as jf:\n",
    "    jf.write(json.dumps(final,indent=2))\n",
    "    "
   ]
  },
  {
   "cell_type": "markdown",
   "metadata": {},
   "source": [
    "#### Drop Table/Database ??"
   ]
  },
  {
   "cell_type": "markdown",
   "metadata": {},
   "source": [
    "#DROP users\n",
    "#DROP orders\n"
   ]
  }
 ],
 "metadata": {
  "kernelspec": {
   "display_name": "Python 3.7.0 32-bit",
   "language": "python",
   "name": "python37032bit5c9370e1c10f47d2a6b751db754ffb65"
  },
  "language_info": {
   "codemirror_mode": {
    "name": "ipython",
    "version": 3
   },
   "file_extension": ".py",
   "mimetype": "text/x-python",
   "name": "python",
   "nbconvert_exporter": "python",
   "pygments_lexer": "ipython3",
   "version": "3.7.6"
  }
 },
 "nbformat": 4,
 "nbformat_minor": 4
}
