{
 "cells": [
  {
   "cell_type": "markdown",
   "metadata": {},
   "source": [
    "## Random Numbers\n",
    "#### Refer for nice doc https://www.w3schools.com/python/numpy_random.asp "
   ]
  },
  {
   "cell_type": "code",
   "execution_count": 126,
   "metadata": {},
   "outputs": [],
   "source": [
    "import numpy as np \n",
    "from numpy import random as rd\n",
    "\n",
    "import random as pyrd  #inbuilt Python"
   ]
  },
  {
   "cell_type": "code",
   "execution_count": 103,
   "metadata": {},
   "outputs": [
    {
     "data": {
      "text/plain": [
       "array([34, 31, 23, 12, 45, 21, 11])"
      ]
     },
     "execution_count": 103,
     "metadata": {},
     "output_type": "execute_result"
    }
   ],
   "source": [
    "xyz=np.array([23,45,12,34,11,21,31]) \n",
    "rd.shuffle(xyz)\n",
    "xyz"
   ]
  },
  {
   "cell_type": "code",
   "execution_count": 104,
   "metadata": {},
   "outputs": [
    {
     "data": {
      "text/plain": [
       "array([31, 23, 45, 21, 34, 12, 11])"
      ]
     },
     "execution_count": 104,
     "metadata": {},
     "output_type": "execute_result"
    }
   ],
   "source": [
    "rd.permutation(xyz)#shuffle               Randomly permute a sequence, or return a permuted range."
   ]
  },
  {
   "cell_type": "code",
   "execution_count": 74,
   "metadata": {},
   "outputs": [
    {
     "data": {
      "text/plain": [
       "5"
      ]
     },
     "execution_count": 74,
     "metadata": {},
     "output_type": "execute_result"
    }
   ],
   "source": [
    "rd.choice([3, 5, 7, 9]) #from given array!"
   ]
  },
  {
   "cell_type": "code",
   "execution_count": 86,
   "metadata": {},
   "outputs": [
    {
     "data": {
      "text/plain": [
       "array([[20,  5,  9],\n",
       "       [11,  3,  0],\n",
       "       [ 1,  3, 10]])"
      ]
     },
     "execution_count": 86,
     "metadata": {},
     "output_type": "execute_result"
    }
   ],
   "source": [
    "rd.choice([3, 5, 7, 9,10,1,2,0,20,99,11],size=(3,3))"
   ]
  },
  {
   "cell_type": "code",
   "execution_count": 91,
   "metadata": {},
   "outputs": [
    {
     "data": {
      "text/plain": [
       "array([9, 7, 5, 7, 9, 3, 7, 7, 7, 7, 3, 7, 7, 7, 7, 5, 7, 9, 5, 9])"
      ]
     },
     "execution_count": 91,
     "metadata": {},
     "output_type": "execute_result"
    }
   ],
   "source": [
    "#'p' defines probability for each mapped array element ==1\n",
    "\n",
    "rd.choice([3, 5, 7, 9], p=[0.1, 0.2, 0.5, 0.2], size=(20)) "
   ]
  },
  {
   "cell_type": "code",
   "execution_count": 95,
   "metadata": {},
   "outputs": [
    {
     "data": {
      "text/plain": [
       "array([[3, 5, 3, 5, 3],\n",
       "       [3, 9, 3, 5, 3],\n",
       "       [7, 3, 5, 9, 3],\n",
       "       [5, 3, 7, 3, 3]])"
      ]
     },
     "execution_count": 95,
     "metadata": {},
     "output_type": "execute_result"
    }
   ],
   "source": [
    "rd.choice([3, 5, 7, 9], p=[0.4, 0.4, 0.1, 0.1], size=(4, 5))"
   ]
  },
  {
   "cell_type": "code",
   "execution_count": 77,
   "metadata": {},
   "outputs": [
    {
     "data": {
      "text/plain": [
       "0.8983749525383176"
      ]
     },
     "execution_count": 77,
     "metadata": {},
     "output_type": "execute_result"
    }
   ],
   "source": [
    "rd.random() #random using np: cumsum, cumprod, where (logical)"
   ]
  },
  {
   "cell_type": "code",
   "execution_count": 32,
   "metadata": {},
   "outputs": [
    {
     "data": {
      "text/plain": [
       "array([0.57554016, 0.28256802])"
      ]
     },
     "execution_count": 32,
     "metadata": {},
     "output_type": "execute_result"
    }
   ],
   "source": [
    "rd.random(2)"
   ]
  },
  {
   "cell_type": "code",
   "execution_count": 44,
   "metadata": {},
   "outputs": [
    {
     "data": {
      "text/plain": [
       "array([0.20261884, 0.45985434, 0.53239162, 0.55451209, 0.04905148,\n",
       "       0.66622852, 0.41761032, 0.93395097, 0.58070692, 0.40424903])"
      ]
     },
     "execution_count": 44,
     "metadata": {},
     "output_type": "execute_result"
    }
   ],
   "source": [
    "rf = np.random.rand(10) #10 Float numbers 0 to 1\n",
    "rf"
   ]
  },
  {
   "cell_type": "code",
   "execution_count": 19,
   "metadata": {},
   "outputs": [
    {
     "data": {
      "text/plain": [
       "array([[0.6020488 , 0.45409753, 0.67647532, 0.11784516],\n",
       "       [0.61234887, 0.43233578, 0.24055506, 0.37635879]])"
      ]
     },
     "execution_count": 19,
     "metadata": {},
     "output_type": "execute_result"
    }
   ],
   "source": [
    "rf1 = np.random.rand(2,4) \n",
    "rf1"
   ]
  },
  {
   "cell_type": "code",
   "execution_count": 21,
   "metadata": {},
   "outputs": [
    {
     "data": {
      "text/plain": [
       "array([[[ 0.87356627,  0.81350082,  0.22798055, -1.24807727],\n",
       "        [-0.82270332,  0.07395308, -0.64506755, -0.34628896]],\n",
       "\n",
       "       [[-1.6469085 , -0.46161594,  0.23830313,  0.37588677],\n",
       "        [ 0.35560518, -1.04261895, -1.34578148, -0.07448543]],\n",
       "\n",
       "       [[ 0.94825061, -0.03372961,  0.18590733, -0.26098223],\n",
       "        [ 1.08896897, -0.02546349, -0.44293316, -0.14525588]]])"
      ]
     },
     "execution_count": 21,
     "metadata": {},
     "output_type": "execute_result"
    }
   ],
   "source": [
    "rf2 = np.random.randn(3,2,4) #3 rows with 2,4\n",
    "rf2"
   ]
  },
  {
   "cell_type": "code",
   "execution_count": 43,
   "metadata": {},
   "outputs": [
    {
     "data": {
      "text/plain": [
       "array([-0.60968241, -0.67307763,  0.95737372, -0.6280861 ,  0.89601544,\n",
       "       -1.30272062, -0.01248933,  0.58466306,  0.15470181,  0.17755898,\n",
       "       -0.29212728,  0.84260681, -0.12700645, -0.02915741, -0.79361235,\n",
       "        1.15272392,  0.48709451, -1.38486166,  0.02871019,  2.12665348,\n",
       "       -0.09127179,  0.32622073,  0.45869801, -1.23525427, -1.17311435,\n",
       "        0.99568525,  0.05520719,  0.55644302,  1.65014107,  0.12370841,\n",
       "        0.36562756,  1.06662457,  0.22390413,  0.71012116, -0.39899861,\n",
       "        0.38615226,  0.69985758,  0.72593753, -0.22434551,  1.80307305,\n",
       "        1.22367777, -2.5879093 , -0.20490921,  0.42963384,  0.23735062,\n",
       "       -0.11959976,  0.32957462, -0.04539697,  0.23073805,  0.03194771,\n",
       "       -0.48022431])"
      ]
     },
     "execution_count": 43,
     "metadata": {},
     "output_type": "execute_result"
    }
   ],
   "source": [
    "rf3 = np.random.randn(51) \n",
    "rf3"
   ]
  },
  {
   "cell_type": "code",
   "execution_count": 45,
   "metadata": {},
   "outputs": [
    {
     "data": {
      "text/plain": [
       "1"
      ]
     },
     "execution_count": 45,
     "metadata": {},
     "output_type": "execute_result"
    }
   ],
   "source": [
    "r1 = np.random.randint(10) #Single Int 0 to 10\n",
    "r1"
   ]
  },
  {
   "cell_type": "code",
   "execution_count": 60,
   "metadata": {},
   "outputs": [
    {
     "data": {
      "text/plain": [
       "array([[7, 0, 3, 2, 1, 2, 3, 4, 8, 0, 5, 5, 1, 9, 4]])"
      ]
     },
     "execution_count": 60,
     "metadata": {},
     "output_type": "execute_result"
    }
   ],
   "source": [
    "r2 = np.random.randint(10,size=(1,15)) #Single Int 0 to 10\n",
    "r2"
   ]
  },
  {
   "cell_type": "code",
   "execution_count": 62,
   "metadata": {},
   "outputs": [
    {
     "data": {
      "text/plain": [
       "13"
      ]
     },
     "execution_count": 62,
     "metadata": {},
     "output_type": "execute_result"
    }
   ],
   "source": [
    "np.count_nonzero(r2) #Counts the number of non-zero elements in the input array"
   ]
  },
  {
   "cell_type": "code",
   "execution_count": 61,
   "metadata": {},
   "outputs": [
    {
     "data": {
      "text/plain": [
       "(array([0, 0, 0, 0, 0, 0, 0, 0, 0, 0, 0, 0, 0], dtype=int64),\n",
       " array([ 0,  2,  3,  4,  5,  6,  7,  8, 10, 11, 12, 13, 14], dtype=int64))"
      ]
     },
     "execution_count": 61,
     "metadata": {},
     "output_type": "execute_result"
    }
   ],
   "source": [
    "np.nonzero(r2) #Return the indices of the elements that are non-zero."
   ]
  },
  {
   "cell_type": "code",
   "execution_count": 47,
   "metadata": {},
   "outputs": [
    {
     "data": {
      "text/plain": [
       "array([[97, 80,  6, 25, 37, 53],\n",
       "       [17, 36, 84, 31, 12, 79]])"
      ]
     },
     "execution_count": 47,
     "metadata": {},
     "output_type": "execute_result"
    }
   ],
   "source": [
    "r3 = np.random.randint(99,size=(2,6)) #random int from 0-99 in asked size -- shape!\n",
    "r3"
   ]
  },
  {
   "cell_type": "code",
   "execution_count": 51,
   "metadata": {},
   "outputs": [
    {
     "data": {
      "text/plain": [
       "array([38, 60, 28, 19, 27, 29, 60, 40, 73, 36, 66, 31, 31, 22, 65, 60, 63,\n",
       "       51, 28, 42])"
      ]
     },
     "execution_count": 51,
     "metadata": {},
     "output_type": "execute_result"
    }
   ],
   "source": [
    "r4=np.random.randint(1,80,20)#.reshape((5,4))\n",
    "r4"
   ]
  },
  {
   "cell_type": "code",
   "execution_count": 57,
   "metadata": {},
   "outputs": [
    {
     "data": {
      "text/plain": [
       "array([[76, 54,  2,  7],\n",
       "       [22, 65, 69, 53],\n",
       "       [24, 17, 74, 22],\n",
       "       [37, 61,  6, 34],\n",
       "       [71, 58, 15, 27]])"
      ]
     },
     "execution_count": 57,
     "metadata": {},
     "output_type": "execute_result"
    }
   ],
   "source": [
    "r5=np.random.randint(0,80,20).reshape((5,4))\n",
    "r5"
   ]
  },
  {
   "cell_type": "code",
   "execution_count": 64,
   "metadata": {},
   "outputs": [
    {
     "data": {
      "text/plain": [
       "73"
      ]
     },
     "execution_count": 64,
     "metadata": {},
     "output_type": "execute_result"
    }
   ],
   "source": [
    "r4.max()"
   ]
  },
  {
   "cell_type": "code",
   "execution_count": 63,
   "metadata": {},
   "outputs": [
    {
     "data": {
      "text/plain": [
       "2"
      ]
     },
     "execution_count": 63,
     "metadata": {},
     "output_type": "execute_result"
    }
   ],
   "source": [
    "r5.min()"
   ]
  },
  {
   "cell_type": "code",
   "execution_count": 122,
   "metadata": {},
   "outputs": [
    {
     "data": {
      "text/plain": [
       "4.840970366889492"
      ]
     },
     "execution_count": 122,
     "metadata": {},
     "output_type": "execute_result"
    }
   ],
   "source": [
    "#Random Float Values from Given Input Range!\n",
    "\n",
    "np.random.uniform(1,10)"
   ]
  },
  {
   "cell_type": "code",
   "execution_count": 123,
   "metadata": {},
   "outputs": [
    {
     "data": {
      "text/plain": [
       "array([[3.99330515, 6.97150647, 8.72323268, 7.63815274, 3.85257047],\n",
       "       [3.09027339, 1.41937047, 8.77748077, 8.12726029, 3.14551043]])"
      ]
     },
     "execution_count": 123,
     "metadata": {},
     "output_type": "execute_result"
    }
   ],
   "source": [
    "np.random.uniform(1,10,size=(2,5))"
   ]
  },
  {
   "cell_type": "markdown",
   "metadata": {},
   "source": [
    "Normal Distribution (Gaussian Distribution)"
   ]
  },
  {
   "cell_type": "code",
   "execution_count": 66,
   "metadata": {},
   "outputs": [
    {
     "data": {
      "text/plain": [
       "9.461766014216881"
      ]
     },
     "execution_count": 66,
     "metadata": {},
     "output_type": "execute_result"
    }
   ],
   "source": [
    "nd = np.random.normal(10)#(3,5)) \n",
    "nd"
   ]
  },
  {
   "cell_type": "code",
   "execution_count": 67,
   "metadata": {},
   "outputs": [
    {
     "data": {
      "text/plain": [
       "array([0.32887661, 9.20768708])"
      ]
     },
     "execution_count": 67,
     "metadata": {},
     "output_type": "execute_result"
    }
   ],
   "source": [
    "nd1 = np.random.normal((1,9))\n",
    "nd1"
   ]
  },
  {
   "cell_type": "code",
   "execution_count": 70,
   "metadata": {},
   "outputs": [
    {
     "data": {
      "text/plain": [
       "array([   1.57403769,  -42.72044379,  190.8925084 , -133.13167547,\n",
       "         78.30591053,  -93.08360838, -120.65398312,  239.11690039,\n",
       "         26.93209431,  113.43951514,  -91.29783147,  -72.99225445,\n",
       "        -59.2122297 ,  -36.56710096,  -92.92235448,  194.1141704 ,\n",
       "        -74.54924471,   36.00554992,   95.72350692,   12.89103694,\n",
       "         -9.92425995,   -7.40560701,  135.96438676, -119.35664913,\n",
       "        160.65053077,    7.75343184, -176.25698707,   21.20987568,\n",
       "        -22.26287329,  -21.6961153 ])"
      ]
     },
     "execution_count": 70,
     "metadata": {},
     "output_type": "execute_result"
    }
   ],
   "source": [
    "nd2 = np.random.normal(1,99,30)\n",
    "nd2"
   ]
  },
  {
   "cell_type": "code",
   "execution_count": 73,
   "metadata": {},
   "outputs": [
    {
     "data": {
      "text/plain": [
       "array([[-0.89418729, -1.45812625, -0.53352093, -0.0955831 ],\n",
       "       [-1.42795512,  0.7883062 ,  1.98963046, -0.13599402]])"
      ]
     },
     "execution_count": 73,
     "metadata": {},
     "output_type": "execute_result"
    }
   ],
   "source": [
    "nd3 = np.random.normal(size=(2,4))\n",
    "nd3"
   ]
  },
  {
   "cell_type": "code",
   "execution_count": 112,
   "metadata": {},
   "outputs": [
    {
     "data": {
      "text/plain": [
       "array([[ 3.75089071,  0.09825832, -0.6377877 ],\n",
       "       [ 1.05939366,  0.76216427, -0.67322737]])"
      ]
     },
     "execution_count": 112,
     "metadata": {},
     "output_type": "execute_result"
    }
   ],
   "source": [
    "# Random normal distribution with mean=2, std=2.5 and size(x,y)\n",
    "\n",
    "nd4 = rd.normal(loc=1, scale=2, size=(2, 3))\n",
    "nd4"
   ]
  },
  {
   "cell_type": "markdown",
   "metadata": {},
   "source": [
    "Binomial or Discrete Distribution!"
   ]
  },
  {
   "cell_type": "code",
   "execution_count": 117,
   "metadata": {},
   "outputs": [
    {
     "data": {
      "text/plain": [
       "array([5, 7, 2, 5, 4, 6, 5, 7, 3, 6])"
      ]
     },
     "execution_count": 117,
     "metadata": {},
     "output_type": "execute_result"
    }
   ],
   "source": [
    "# Binomial distribution with number_of_trial=2, probability_of_each_trial=2.5 and size(x,y)\n",
    "\n",
    "rd.binomial(n=10, p=0.5, size=10)"
   ]
  },
  {
   "cell_type": "code",
   "execution_count": 119,
   "metadata": {},
   "outputs": [
    {
     "data": {
      "text/plain": [
       "array([[2, 1, 1, 1],\n",
       "       [2, 2, 1, 2]])"
      ]
     },
     "execution_count": 119,
     "metadata": {},
     "output_type": "execute_result"
    }
   ],
   "source": [
    "rd.binomial(n=2, p=0.5, size=(2,4))"
   ]
  }
 ],
 "metadata": {
  "kernelspec": {
   "display_name": "Python 3.7.0 32-bit",
   "language": "python",
   "name": "python37032bit5c9370e1c10f47d2a6b751db754ffb65"
  },
  "language_info": {
   "codemirror_mode": {
    "name": "ipython",
    "version": 3
   },
   "file_extension": ".py",
   "mimetype": "text/x-python",
   "name": "python",
   "nbconvert_exporter": "python",
   "pygments_lexer": "ipython3",
   "version": "3.7.6"
  }
 },
 "nbformat": 4,
 "nbformat_minor": 4
}
