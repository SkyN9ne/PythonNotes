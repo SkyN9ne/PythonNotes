{
 "cells": [
  {
   "cell_type": "code",
   "execution_count": null,
   "metadata": {},
   "outputs": [],
   "source": [
    "import numpy as np\n",
    "\n",
    "import matplotlib.pyplot as plt\n",
    "%matplotlib inline"
   ]
  },
  {
   "cell_type": "code",
   "execution_count": null,
   "metadata": {},
   "outputs": [],
   "source": [
    "#Set array for one side of grid\n",
    "points = np.arange(-5,5,0.01)"
   ]
  },
  {
   "cell_type": "code",
   "execution_count": null,
   "metadata": {},
   "outputs": [],
   "source": [
    "#Create the grid\n",
    "dx,dy=np.meshgrid(points,points)"
   ]
  },
  {
   "cell_type": "code",
   "execution_count": null,
   "metadata": {},
   "outputs": [],
   "source": [
    "#Show what one side looks like\n",
    "dx"
   ]
  },
  {
   "cell_type": "code",
   "execution_count": null,
   "metadata": {},
   "outputs": [],
   "source": [
    "# Evaluating Function\n",
    "z = (np.sin(dx) + np.sin(dy))"
   ]
  },
  {
   "cell_type": "code",
   "execution_count": null,
   "metadata": {},
   "outputs": [],
   "source": [
    "#Lets take a look at the z result\n",
    "z"
   ]
  },
  {
   "cell_type": "code",
   "execution_count": null,
   "metadata": {},
   "outputs": [],
   "source": [
    "#Plot out the 2d array\n",
    "plt.imshow(z)\n",
    "\n",
    "#Plot with a colorbar\n",
    "plt.colorbar()\n",
    "\n",
    "#Give the plot a title\n",
    "plt.title(\"Plot for sin(x)+sin(y)\")"
   ]
  },
  {
   "cell_type": "code",
   "execution_count": null,
   "metadata": {},
   "outputs": [],
   "source": [
    "#Lets learn how to use the numpy where\n",
    "\n",
    "#First the slow way to do things\n",
    "\n",
    "A = np.array([1,2,3,4])\n",
    "\n",
    "B= np.array([100,200,300,400])\n",
    "\n",
    "#Now a boolean array\n",
    "condition = np.array([True,True,False,False])\n",
    "\n",
    "#Using a list comprehension\n",
    "answer = [(A_val if cond else B_val) for A_val,B_val,cond in zip(A,B,condition)]\n",
    "\n",
    "#Show the answer\n",
    "answer\n",
    "\n",
    "#Problems include speed issues and multi-dimensional array issues"
   ]
  },
  {
   "cell_type": "code",
   "execution_count": null,
   "metadata": {},
   "outputs": [],
   "source": [
    "#Now using numpy.where\n",
    "\n",
    "answer2 = np.where(condition,A,B)\n",
    "\n",
    "#Show\n",
    "answer2"
   ]
  },
  {
   "cell_type": "code",
   "execution_count": null,
   "metadata": {},
   "outputs": [],
   "source": [
    "#Can use np.where  on 2d for manipulation\n",
    "\n",
    "from numpy.random import randn\n",
    "\n",
    "arr = randn(5,5)\n",
    "\n",
    "#Show arr\n",
    "arr"
   ]
  },
  {
   "cell_type": "code",
   "execution_count": null,
   "metadata": {},
   "outputs": [],
   "source": [
    "# Where array is less than zero, make that value zero, otherwise leave it as the array value\n",
    "np.where(arr < 0,0,arr)"
   ]
  },
  {
   "cell_type": "code",
   "execution_count": null,
   "metadata": {},
   "outputs": [],
   "source": [
    "#Other Statistical Processing\n",
    "arr = np.array([[1,2,3],[4,5,6],[7,8,9]])\n",
    "\n",
    "arr\n"
   ]
  },
  {
   "cell_type": "code",
   "execution_count": null,
   "metadata": {},
   "outputs": [],
   "source": [
    "#SUM\n",
    "arr.sum()"
   ]
  },
  {
   "cell_type": "code",
   "execution_count": null,
   "metadata": {},
   "outputs": [],
   "source": [
    "#Can also do along an axis (we shold expect a 3 diff between the columns)\n",
    "arr.sum(0)"
   ]
  },
  {
   "cell_type": "code",
   "execution_count": null,
   "metadata": {},
   "outputs": [],
   "source": [
    "#Mean\n",
    "arr.mean()"
   ]
  },
  {
   "cell_type": "code",
   "execution_count": null,
   "metadata": {},
   "outputs": [],
   "source": [
    "#Standard Deviation\n",
    "arr.std()"
   ]
  },
  {
   "cell_type": "code",
   "execution_count": null,
   "metadata": {},
   "outputs": [],
   "source": [
    "#Variance\n",
    "arr.var()"
   ]
  },
  {
   "cell_type": "code",
   "execution_count": null,
   "metadata": {},
   "outputs": [],
   "source": [
    "#Also any and all for processing boolean arrays\n",
    "\n",
    "bool_arr = np.array([True,False,True])\n",
    "\n",
    "#For any True\n",
    "bool_arr.any()"
   ]
  },
  {
   "cell_type": "code",
   "execution_count": null,
   "metadata": {},
   "outputs": [],
   "source": [
    "# For all True\n",
    "bool_arr.all()"
   ]
  },
  {
   "cell_type": "code",
   "execution_count": null,
   "metadata": {},
   "outputs": [],
   "source": [
    "# Finally sort array\n",
    "\n",
    "#Create a random array\n",
    "arr = randn(5)\n",
    "#show\n",
    "arr"
   ]
  },
  {
   "cell_type": "code",
   "execution_count": null,
   "metadata": {},
   "outputs": [],
   "source": [
    "#Sort it\n",
    "arr.sort()\n",
    "#show\n",
    "arr"
   ]
  },
  {
   "cell_type": "code",
   "execution_count": null,
   "metadata": {},
   "outputs": [],
   "source": [
    "#Lets learn about unique\n",
    "countries = np.array(['France', 'Germany', 'USA', 'Russia','USA','Mexico','Germany'])\n",
    "\n",
    "np.unique(countries)"
   ]
  },
  {
   "cell_type": "code",
   "execution_count": null,
   "metadata": {},
   "outputs": [],
   "source": [
    "# in1d test values in one array\n",
    "np.in1d(['France','USA','Sweden'],countries)"
   ]
  },
  {
   "cell_type": "code",
   "execution_count": null,
   "metadata": {},
   "outputs": [],
   "source": []
  }
 ],
 "metadata": {},
 "nbformat": 4,
 "nbformat_minor": 1
}
